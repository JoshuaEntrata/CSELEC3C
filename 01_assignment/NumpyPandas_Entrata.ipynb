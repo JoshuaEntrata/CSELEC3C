{
 "cells": [
  {
   "cell_type": "markdown",
   "metadata": {},
   "source": [
    "### Joshua Kyle K. Entrata\n",
    "\n",
    "### 4CSC - Data Analysis and Visualization\n"
   ]
  },
  {
   "cell_type": "code",
   "execution_count": 1,
   "metadata": {},
   "outputs": [],
   "source": [
    "import numpy as np\n",
    "import pandas as pd"
   ]
  },
  {
   "cell_type": "markdown",
   "metadata": {},
   "source": [
    "### Part 1: Introduction to NumPy\n"
   ]
  },
  {
   "cell_type": "markdown",
   "metadata": {},
   "source": [
    "#### Task 1: Creating Arrays\n",
    "\n",
    "Create a 1D NumPy array containing the numbers from 1 to 15.\n"
   ]
  },
  {
   "cell_type": "code",
   "execution_count": 2,
   "metadata": {},
   "outputs": [
    {
     "name": "stdout",
     "output_type": "stream",
     "text": [
      "[ 1  2  3  4  5  6  7  8  9 10 11 12 13 14 15]\n"
     ]
    }
   ],
   "source": [
    "\"\"\"\n",
    "I generated a sequence of numbers starting from 1 to 15 and converted it into a NumPy array\n",
    "\n",
    "Another option is to manually set the list [1, 2, 3, 4, 5, 6, 7, 8, 9, 10, 11, 12, 13, 14, 15]\n",
    "\"\"\"\n",
    "\n",
    "arr = np.array([x for x in range(1,16)])\n",
    "print(arr)"
   ]
  },
  {
   "cell_type": "markdown",
   "metadata": {},
   "source": [
    "#### Task 2: Reshaping Arrays\n",
    "\n",
    "Reshape the 1D array from Task 1 into a 3x5 2D array.\n"
   ]
  },
  {
   "cell_type": "code",
   "execution_count": 3,
   "metadata": {},
   "outputs": [
    {
     "name": "stdout",
     "output_type": "stream",
     "text": [
      "[[ 1  2  3  4  5]\n",
      " [ 6  7  8  9 10]\n",
      " [11 12 13 14 15]]\n"
     ]
    }
   ],
   "source": [
    "\"\"\"\n",
    "We can reshape a NumPy array using the `reshape()` method by passing a valid dimensions that match the total number of elements in that array\n",
    "\"\"\"\n",
    "\n",
    "new_arr = arr.reshape(3, 5)\n",
    "print(new_arr)"
   ]
  },
  {
   "cell_type": "markdown",
   "metadata": {},
   "source": [
    "#### Task 3: Basic Arithmetic Operations\n",
    "\n",
    "Create a new array by adding 2 to every element in the 2D array from Task 2\n"
   ]
  },
  {
   "cell_type": "code",
   "execution_count": 4,
   "metadata": {},
   "outputs": [
    {
     "name": "stdout",
     "output_type": "stream",
     "text": [
      "[[ 3  4  5  6  7]\n",
      " [ 8  9 10 11 12]\n",
      " [13 14 15 16 17]]\n"
     ]
    }
   ],
   "source": [
    "\"\"\"\n",
    "Directly applying arithmetic operations, such as addition, is allowed on a NumPy array\n",
    "\"\"\"\n",
    "add_arr = new_arr + 2\n",
    "print(add_arr)"
   ]
  },
  {
   "cell_type": "markdown",
   "metadata": {},
   "source": [
    "#### Task 4: Array Indexing and Slicing\n",
    "\n",
    "Extract the second row from the 2D array you created in Task 2.\n"
   ]
  },
  {
   "cell_type": "code",
   "execution_count": 6,
   "metadata": {},
   "outputs": [
    {
     "name": "stdout",
     "output_type": "stream",
     "text": [
      "[ 6  7  8  9 10]\n"
     ]
    }
   ],
   "source": [
    "\"\"\"\n",
    "Using indexing, we can extract specific rows from a NumPy array \n",
    "\n",
    "For this instance, since indexing starts at 0, index 1 refers to the second row\n",
    "\"\"\"\n",
    "extracted_arr = new_arr[1]\n",
    "print(extracted_arr)"
   ]
  },
  {
   "cell_type": "markdown",
   "metadata": {},
   "source": [
    "#### Task 5: Element-wise Operations\n",
    "\n",
    "Multiply each element in the 2D array by 3 and store the result in a new array.\n"
   ]
  },
  {
   "cell_type": "code",
   "execution_count": 7,
   "metadata": {},
   "outputs": [
    {
     "name": "stdout",
     "output_type": "stream",
     "text": [
      "[[ 3  6  9 12 15]\n",
      " [18 21 24 27 30]\n",
      " [33 36 39 42 45]]\n"
     ]
    }
   ],
   "source": [
    "\"\"\"\n",
    "Same with arithmetic operations, we can perform elemnent-wise multiplication on a NumPy array\n",
    "\"\"\"\n",
    "\n",
    "mul_arr = new_arr * 3\n",
    "print(mul_arr)"
   ]
  },
  {
   "cell_type": "markdown",
   "metadata": {},
   "source": [
    "#### Task 6: Basic Statistics\n",
    "\n",
    "Calculate the mean and sum of all elements in the array from Task 5.\n"
   ]
  },
  {
   "cell_type": "code",
   "execution_count": 8,
   "metadata": {},
   "outputs": [
    {
     "name": "stdout",
     "output_type": "stream",
     "text": [
      "Mean of all elements in the array is 24.0.\n",
      "Sum of all elements in the array is 360.\n"
     ]
    }
   ],
   "source": [
    "\"\"\"\n",
    "NumPy has functions such as `mean()` and `sum()` that we can use to calculate the mean and sum of all elements in the array\n",
    "\"\"\"\n",
    "\n",
    "mean_of_arr = np.mean(mul_arr)\n",
    "sum_of_arr = np.sum(mul_arr)\n",
    "\n",
    "print(f'Mean of all elements in the array is {mean_of_arr}.')\n",
    "print(f'Sum of all elements in the array is {sum_of_arr}.')"
   ]
  },
  {
   "cell_type": "markdown",
   "metadata": {},
   "source": [
    "### Part 2: Introduction to Pandas\n"
   ]
  },
  {
   "cell_type": "markdown",
   "metadata": {},
   "source": [
    "#### Task 7: Creating DataFrames\n",
    "\n",
    "Create a Pandas DataFrame using the followind data:\n"
   ]
  },
  {
   "cell_type": "code",
   "execution_count": 9,
   "metadata": {},
   "outputs": [
    {
     "name": "stdout",
     "output_type": "stream",
     "text": [
      "    Name  Age  Salary\n",
      "0    Tom   28   50000\n",
      "1   Jane   34   60000\n",
      "2  Steve   29   55000\n"
     ]
    }
   ],
   "source": [
    "\"\"\"\n",
    "We can create a DataFrame in Pandas by passing a dictionary\n",
    "\"\"\"\n",
    "\n",
    "data = {\n",
    "    'Name': ['Tom', 'Jane', 'Steve'],\n",
    "    'Age': [28, 34, 29],\n",
    "    'Salary': [50000, 60000, 55000]\n",
    "}\n",
    "\n",
    "df = pd.DataFrame(data)\n",
    "print(df)"
   ]
  },
  {
   "cell_type": "markdown",
   "metadata": {},
   "source": [
    "#### Task 8: Accessing DataFrame Columns\n",
    "\n",
    "Select the 'Name' column from the DataFrame and display it.\n"
   ]
  },
  {
   "cell_type": "code",
   "execution_count": 10,
   "metadata": {},
   "outputs": [
    {
     "name": "stdout",
     "output_type": "stream",
     "text": [
      "0      Tom\n",
      "1     Jane\n",
      "2    Steve\n",
      "Name: Name, dtype: object\n"
     ]
    }
   ],
   "source": [
    "\"\"\"\n",
    "We can access a specific column by using the column name as a key\n",
    "\"\"\"\n",
    "\n",
    "print(df['Name'])"
   ]
  },
  {
   "cell_type": "markdown",
   "metadata": {},
   "source": [
    "#### Task 9: Adding a New Column\n",
    "\n",
    "Add a new column to the DataFrame called 'Bonus', which is 10% of the 'Salary'\n"
   ]
  },
  {
   "cell_type": "code",
   "execution_count": 11,
   "metadata": {},
   "outputs": [
    {
     "name": "stdout",
     "output_type": "stream",
     "text": [
      "    Name  Age  Salary   Bonus\n",
      "0    Tom   28   50000  5000.0\n",
      "1   Jane   34   60000  6000.0\n",
      "2  Steve   29   55000  5500.0\n"
     ]
    }
   ],
   "source": [
    "\"\"\"\n",
    "We can create a new column by creating a new column name\n",
    "\n",
    "For its values, we can perform operations on existing columns and assigning it to the new column\n",
    "\"\"\"\n",
    "\n",
    "df['Bonus'] = df['Salary'] * 0.1\n",
    "print(df)"
   ]
  },
  {
   "cell_type": "markdown",
   "metadata": {},
   "source": [
    "#### Task 10: Basic DataFrame Statistics\n",
    "\n",
    "Calculate the average salary of all individuals in the DataFrame\n"
   ]
  },
  {
   "cell_type": "code",
   "execution_count": 12,
   "metadata": {},
   "outputs": [
    {
     "name": "stdout",
     "output_type": "stream",
     "text": [
      "The average salary of all individuals is 55000.0\n"
     ]
    }
   ],
   "source": [
    "\"\"\"\n",
    "We can use the `mean()` method to calculate the average of the `Salary` column\n",
    "\"\"\"\n",
    "\n",
    "ave_salary = df['Salary'].mean()\n",
    "print(f'The average salary of all individuals is {ave_salary}')"
   ]
  },
  {
   "cell_type": "code",
   "execution_count": null,
   "metadata": {},
   "outputs": [],
   "source": []
  }
 ],
 "metadata": {
  "kernelspec": {
   "display_name": "Python 3",
   "language": "python",
   "name": "python3"
  },
  "language_info": {
   "codemirror_mode": {
    "name": "ipython",
    "version": 3
   },
   "file_extension": ".py",
   "mimetype": "text/x-python",
   "name": "python",
   "nbconvert_exporter": "python",
   "pygments_lexer": "ipython3",
   "version": "3.11.4"
  }
 },
 "nbformat": 4,
 "nbformat_minor": 2
}
