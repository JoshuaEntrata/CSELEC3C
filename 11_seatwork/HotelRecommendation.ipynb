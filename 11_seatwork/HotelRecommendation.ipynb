{
 "cells": [
  {
   "cell_type": "code",
   "execution_count": 32,
   "metadata": {},
   "outputs": [],
   "source": [
    "import nltk\n",
    "import numpy as np \n",
    "import pandas as pd \n",
    "from nltk.corpus import stopwords \n",
    "from nltk.tokenize import word_tokenize\n",
    "from nltk.stem.wordnet import WordNetLemmatizer\n",
    "from ast import literal_eval"
   ]
  },
  {
   "cell_type": "code",
   "execution_count": 33,
   "metadata": {},
   "outputs": [
    {
     "data": {
      "text/plain": [
       "(515738, 17)"
      ]
     },
     "execution_count": 33,
     "metadata": {},
     "output_type": "execute_result"
    }
   ],
   "source": [
    "data = pd.read_csv('data/Hotel_Reviews.csv')\n",
    "data.shape"
   ]
  },
  {
   "cell_type": "code",
   "execution_count": 34,
   "metadata": {},
   "outputs": [
    {
     "data": {
      "text/plain": [
       "array(['Netherlands', 'UK', 'France', 'Spain', 'Italy', 'Austria'],\n",
       "      dtype=object)"
      ]
     },
     "execution_count": 34,
     "metadata": {},
     "output_type": "execute_result"
    }
   ],
   "source": [
    "data['Hotel_Address'] = data.Hotel_Address.str.replace('United Kingdom', 'UK')\n",
    "data['countries'] = data.Hotel_Address.apply(\n",
    "    lambda x: x.split(' ')[-1]\n",
    ")\n",
    "\n",
    "data.countries.unique()"
   ]
  },
  {
   "cell_type": "code",
   "execution_count": 35,
   "metadata": {},
   "outputs": [],
   "source": [
    "def impute(column):\n",
    "    column = column[0]\n",
    "    \n",
    "    if(type(column) != list):\n",
    "        return \"\".join(literal_eval(column))\n",
    "    else:\n",
    "        return column"
   ]
  },
  {
   "cell_type": "code",
   "execution_count": 36,
   "metadata": {},
   "outputs": [
    {
     "name": "stderr",
     "output_type": "stream",
     "text": [
      "C:\\Users\\JOSHUA KYLE\\AppData\\Local\\Temp\\ipykernel_4280\\2471498850.py:2: FutureWarning: Series.__getitem__ treating keys as positions is deprecated. In a future version, integer keys will always be treated as labels (consistent with DataFrame behavior). To access a value by position, use `ser.iloc[pos]`\n",
      "  column = column[0]\n"
     ]
    },
    {
     "data": {
      "text/plain": [
       "(515738, 18)"
      ]
     },
     "execution_count": 36,
     "metadata": {},
     "output_type": "execute_result"
    }
   ],
   "source": [
    "data.Tags = data[['Tags']].apply(impute, axis=1)\n",
    "data.shape"
   ]
  },
  {
   "cell_type": "code",
   "execution_count": 37,
   "metadata": {},
   "outputs": [
    {
     "data": {
      "text/html": [
       "<div>\n",
       "<style scoped>\n",
       "    .dataframe tbody tr th:only-of-type {\n",
       "        vertical-align: middle;\n",
       "    }\n",
       "\n",
       "    .dataframe tbody tr th {\n",
       "        vertical-align: top;\n",
       "    }\n",
       "\n",
       "    .dataframe thead th {\n",
       "        text-align: right;\n",
       "    }\n",
       "</style>\n",
       "<table border=\"1\" class=\"dataframe\">\n",
       "  <thead>\n",
       "    <tr style=\"text-align: right;\">\n",
       "      <th></th>\n",
       "      <th>Hotel_Address</th>\n",
       "      <th>Additional_Number_of_Scoring</th>\n",
       "      <th>Review_Date</th>\n",
       "      <th>Average_Score</th>\n",
       "      <th>Hotel_Name</th>\n",
       "      <th>Reviewer_Nationality</th>\n",
       "      <th>Negative_Review</th>\n",
       "      <th>Review_Total_Negative_Word_Counts</th>\n",
       "      <th>Total_Number_of_Reviews</th>\n",
       "      <th>Positive_Review</th>\n",
       "      <th>Review_Total_Positive_Word_Counts</th>\n",
       "      <th>Total_Number_of_Reviews_Reviewer_Has_Given</th>\n",
       "      <th>Reviewer_Score</th>\n",
       "      <th>Tags</th>\n",
       "      <th>days_since_review</th>\n",
       "      <th>lat</th>\n",
       "      <th>lng</th>\n",
       "      <th>countries</th>\n",
       "    </tr>\n",
       "  </thead>\n",
       "  <tbody>\n",
       "    <tr>\n",
       "      <th>475992</th>\n",
       "      <td>Via Gaetano Airaghi 125 20153 Milan Italy</td>\n",
       "      <td>229</td>\n",
       "      <td>7/14/2017</td>\n",
       "      <td>6.9</td>\n",
       "      <td>Idea Hotel Milano San Siro</td>\n",
       "      <td>Switzerland</td>\n",
       "      <td>If you want a good coffee for breakfast you s...</td>\n",
       "      <td>17</td>\n",
       "      <td>5742</td>\n",
       "      <td>Good location if you travel by car and need t...</td>\n",
       "      <td>17</td>\n",
       "      <td>2</td>\n",
       "      <td>8.3</td>\n",
       "      <td>Leisure trip  Family with young children  Dou...</td>\n",
       "      <td>20 days</td>\n",
       "      <td>45.472065</td>\n",
       "      <td>9.077787</td>\n",
       "      <td>Italy</td>\n",
       "    </tr>\n",
       "    <tr>\n",
       "      <th>428751</th>\n",
       "      <td>Rennweg 16 03 Landstra e 1030 Vienna Austria</td>\n",
       "      <td>370</td>\n",
       "      <td>4/12/2016</td>\n",
       "      <td>8.9</td>\n",
       "      <td>Austria Trend Hotel Savoyen Vienna</td>\n",
       "      <td>Germany</td>\n",
       "      <td>Horribly designed restaurant and bar</td>\n",
       "      <td>7</td>\n",
       "      <td>4016</td>\n",
       "      <td>Big rooms</td>\n",
       "      <td>3</td>\n",
       "      <td>10</td>\n",
       "      <td>6.7</td>\n",
       "      <td>Leisure trip  Solo traveler  Deluxe Room  Sta...</td>\n",
       "      <td>478 day</td>\n",
       "      <td>48.195044</td>\n",
       "      <td>16.384475</td>\n",
       "      <td>Austria</td>\n",
       "    </tr>\n",
       "    <tr>\n",
       "      <th>157213</th>\n",
       "      <td>34 Norfolk Place Paddington Westminster Boroug...</td>\n",
       "      <td>634</td>\n",
       "      <td>8/8/2015</td>\n",
       "      <td>7.9</td>\n",
       "      <td>Norfolk Towers Paddington</td>\n",
       "      <td>New Zealand</td>\n",
       "      <td>No Negative</td>\n",
       "      <td>0</td>\n",
       "      <td>4065</td>\n",
       "      <td>The room was exactly what we booked very clea...</td>\n",
       "      <td>23</td>\n",
       "      <td>1</td>\n",
       "      <td>9.6</td>\n",
       "      <td>Leisure trip  Couple  Club Double Room  Staye...</td>\n",
       "      <td>726 day</td>\n",
       "      <td>51.516288</td>\n",
       "      <td>-0.172108</td>\n",
       "      <td>UK</td>\n",
       "    </tr>\n",
       "  </tbody>\n",
       "</table>\n",
       "</div>"
      ],
      "text/plain": [
       "                                            Hotel_Address  \\\n",
       "475992          Via Gaetano Airaghi 125 20153 Milan Italy   \n",
       "428751       Rennweg 16 03 Landstra e 1030 Vienna Austria   \n",
       "157213  34 Norfolk Place Paddington Westminster Boroug...   \n",
       "\n",
       "        Additional_Number_of_Scoring Review_Date  Average_Score  \\\n",
       "475992                           229   7/14/2017            6.9   \n",
       "428751                           370   4/12/2016            8.9   \n",
       "157213                           634    8/8/2015            7.9   \n",
       "\n",
       "                                Hotel_Name Reviewer_Nationality  \\\n",
       "475992          Idea Hotel Milano San Siro         Switzerland    \n",
       "428751  Austria Trend Hotel Savoyen Vienna             Germany    \n",
       "157213           Norfolk Towers Paddington         New Zealand    \n",
       "\n",
       "                                          Negative_Review  \\\n",
       "475992   If you want a good coffee for breakfast you s...   \n",
       "428751              Horribly designed restaurant and bar    \n",
       "157213                                        No Negative   \n",
       "\n",
       "        Review_Total_Negative_Word_Counts  Total_Number_of_Reviews  \\\n",
       "475992                                 17                     5742   \n",
       "428751                                  7                     4016   \n",
       "157213                                  0                     4065   \n",
       "\n",
       "                                          Positive_Review  \\\n",
       "475992   Good location if you travel by car and need t...   \n",
       "428751                                          Big rooms   \n",
       "157213   The room was exactly what we booked very clea...   \n",
       "\n",
       "        Review_Total_Positive_Word_Counts  \\\n",
       "475992                                 17   \n",
       "428751                                  3   \n",
       "157213                                 23   \n",
       "\n",
       "        Total_Number_of_Reviews_Reviewer_Has_Given  Reviewer_Score  \\\n",
       "475992                                           2             8.3   \n",
       "428751                                          10             6.7   \n",
       "157213                                           1             9.6   \n",
       "\n",
       "                                                     Tags days_since_review  \\\n",
       "475992   Leisure trip  Family with young children  Dou...           20 days   \n",
       "428751   Leisure trip  Solo traveler  Deluxe Room  Sta...           478 day   \n",
       "157213   Leisure trip  Couple  Club Double Room  Staye...           726 day   \n",
       "\n",
       "              lat        lng countries  \n",
       "475992  45.472065   9.077787     Italy  \n",
       "428751  48.195044  16.384475   Austria  \n",
       "157213  51.516288  -0.172108        UK  "
      ]
     },
     "execution_count": 37,
     "metadata": {},
     "output_type": "execute_result"
    }
   ],
   "source": [
    "data.sample(3)"
   ]
  },
  {
   "cell_type": "code",
   "execution_count": 38,
   "metadata": {},
   "outputs": [],
   "source": [
    "data.countries = data.countries.str.lower()\n",
    "data.Tags = data.Tags.str.lower()"
   ]
  },
  {
   "cell_type": "code",
   "execution_count": 39,
   "metadata": {},
   "outputs": [],
   "source": [
    "# def recommend_hotel(location, description):\n",
    "#     description = description.lower()\n",
    "#     word_tokenize(description)\n",
    "#     stop_words = stopwords.words('english')\n",
    "#     lemm = WordNetLemmatizer()\n",
    "#     filtered = {word for word in description if not word in stop_words}\n",
    "#     filtered_set = set()\n",
    "    \n",
    "#     for fs in filtered:\n",
    "#         filtered_set.add(lemm.lemmatize(fs))\n",
    "        \n",
    "#     country = data[data.countries == location.lower()]\n",
    "#     country = country.set_index(np.arange(country.shape[0]))\n",
    "    \n",
    "#     list1 = []\n",
    "#     list2 = []\n",
    "#     cos = []\n",
    "    \n",
    "#     for i in range(country.shape[0]):\n",
    "#         temp_token = word_tokenize(country.Tags[i])\n",
    "#         temp_set = [word for word in temp_token if not word in stop_words]\n",
    "#         temp2_set = set()\n",
    "        \n",
    "#         for s in temp_set:\n",
    "#             temp2_set.add(lemm.lemmatize(s))\n",
    "            \n",
    "#         vector = temp2_set.intersection(filtered_set)\n",
    "#         cos.append(len(vector))\n",
    "        \n",
    "#     country.similarity = cos\n",
    "#     country = country.sort_values(by='similarity', ascending=False)\n",
    "#     country.drop_duplicates(subset='Hotel_Name', keep='first', inplace=True)\n",
    "#     country.sort_values('Average_Score', ascending=False, inplace=True)\n",
    "#     country.reset_index(inplace=True)\n",
    "    \n",
    "#     return country[['Hotel_Name', 'Average_Score', 'Hotel_Address']].head()"
   ]
  },
  {
   "cell_type": "code",
   "execution_count": 40,
   "metadata": {},
   "outputs": [],
   "source": [
    "def recommend_hotel(location, description):\n",
    "    description = description.lower()\n",
    "    word_tokenize(description)\n",
    "    stop_words = set(stopwords.words('english'))\n",
    "    lemm = WordNetLemmatizer()\n",
    "    filtered = {word for word in description if not word in stop_words}\n",
    "    filtered_set = set()\n",
    "    for fs in filtered:\n",
    "        filtered_set.add(lemm.lemmatize(fs))\n",
    "\n",
    "    country = data[data['countries'] == location.lower()]\n",
    "    country = country.set_index(np.arange(country.shape[0]))\n",
    "    list1 = []; list2 = []; cos = [];\n",
    "    for i in range(country.shape[0]):\n",
    "        temp_token = word_tokenize(country['Tags'][i])\n",
    "        temp_set = [word for word in temp_token if not word in stop_words]\n",
    "        temp2_set = set()\n",
    "        for s in temp_set:\n",
    "            temp2_set.add(lemm.lemmatize(s))\n",
    "        vector = temp2_set.intersection(filtered_set)\n",
    "        cos.append(len(vector))\n",
    "    country['similarity'] = cos \n",
    "    country = country.sort_values(by='similarity', ascending=False)\n",
    "    country.drop_duplicates(subset='Hotel_Name', keep='first', inplace=True)\n",
    "    country.sort_values('Average_Score', ascending=False, inplace=True)\n",
    "    country.reset_index(inplace=True)\n",
    "    \n",
    "    return country [[\"Hotel_Name\", \"Average_Score\", \"Hotel_Address\"]].head()"
   ]
  },
  {
   "cell_type": "code",
   "execution_count": 41,
   "metadata": {},
   "outputs": [
    {
     "data": {
      "text/plain": [
       "Index(['Hotel_Address', 'Additional_Number_of_Scoring', 'Review_Date',\n",
       "       'Average_Score', 'Hotel_Name', 'Reviewer_Nationality',\n",
       "       'Negative_Review', 'Review_Total_Negative_Word_Counts',\n",
       "       'Total_Number_of_Reviews', 'Positive_Review',\n",
       "       'Review_Total_Positive_Word_Counts',\n",
       "       'Total_Number_of_Reviews_Reviewer_Has_Given', 'Reviewer_Score', 'Tags',\n",
       "       'days_since_review', 'lat', 'lng', 'countries'],\n",
       "      dtype='object')"
      ]
     },
     "execution_count": 41,
     "metadata": {},
     "output_type": "execute_result"
    }
   ],
   "source": [
    "data.columns"
   ]
  },
  {
   "cell_type": "code",
   "execution_count": 42,
   "metadata": {},
   "outputs": [
    {
     "data": {
      "text/html": [
       "<div>\n",
       "<style scoped>\n",
       "    .dataframe tbody tr th:only-of-type {\n",
       "        vertical-align: middle;\n",
       "    }\n",
       "\n",
       "    .dataframe tbody tr th {\n",
       "        vertical-align: top;\n",
       "    }\n",
       "\n",
       "    .dataframe thead th {\n",
       "        text-align: right;\n",
       "    }\n",
       "</style>\n",
       "<table border=\"1\" class=\"dataframe\">\n",
       "  <thead>\n",
       "    <tr style=\"text-align: right;\">\n",
       "      <th></th>\n",
       "      <th>Hotel_Name</th>\n",
       "      <th>Average_Score</th>\n",
       "      <th>Hotel_Address</th>\n",
       "    </tr>\n",
       "  </thead>\n",
       "  <tbody>\n",
       "    <tr>\n",
       "      <th>0</th>\n",
       "      <td>Haymarket Hotel</td>\n",
       "      <td>9.6</td>\n",
       "      <td>1 Suffolk Place Westminster Borough London SW1...</td>\n",
       "    </tr>\n",
       "    <tr>\n",
       "      <th>1</th>\n",
       "      <td>41</td>\n",
       "      <td>9.6</td>\n",
       "      <td>41 Buckingham Palace Road Westminster Borough ...</td>\n",
       "    </tr>\n",
       "    <tr>\n",
       "      <th>2</th>\n",
       "      <td>Taj 51 Buckingham Gate Suites and Residences</td>\n",
       "      <td>9.5</td>\n",
       "      <td>Buckingham Gate Westminster Borough London SW1...</td>\n",
       "    </tr>\n",
       "    <tr>\n",
       "      <th>3</th>\n",
       "      <td>Charlotte Street Hotel</td>\n",
       "      <td>9.5</td>\n",
       "      <td>15 17 Charlotte Street Hotel Westminster Borou...</td>\n",
       "    </tr>\n",
       "    <tr>\n",
       "      <th>4</th>\n",
       "      <td>Ham Yard Hotel</td>\n",
       "      <td>9.5</td>\n",
       "      <td>One Ham Yard Westminster Borough London W1D 7D...</td>\n",
       "    </tr>\n",
       "  </tbody>\n",
       "</table>\n",
       "</div>"
      ],
      "text/plain": [
       "                                     Hotel_Name  Average_Score  \\\n",
       "0                               Haymarket Hotel            9.6   \n",
       "1                                            41            9.6   \n",
       "2  Taj 51 Buckingham Gate Suites and Residences            9.5   \n",
       "3                        Charlotte Street Hotel            9.5   \n",
       "4                                Ham Yard Hotel            9.5   \n",
       "\n",
       "                                       Hotel_Address  \n",
       "0  1 Suffolk Place Westminster Borough London SW1...  \n",
       "1  41 Buckingham Palace Road Westminster Borough ...  \n",
       "2  Buckingham Gate Westminster Borough London SW1...  \n",
       "3  15 17 Charlotte Street Hotel Westminster Borou...  \n",
       "4  One Ham Yard Westminster Borough London W1D 7D...  "
      ]
     },
     "execution_count": 42,
     "metadata": {},
     "output_type": "execute_result"
    }
   ],
   "source": [
    "recommend_hotel('UK', 'I am going on a honeymoon, I need a honeymoon suite room for 3 nights')"
   ]
  },
  {
   "cell_type": "code",
   "execution_count": null,
   "metadata": {},
   "outputs": [],
   "source": []
  }
 ],
 "metadata": {
  "kernelspec": {
   "display_name": "Python 3",
   "language": "python",
   "name": "python3"
  },
  "language_info": {
   "codemirror_mode": {
    "name": "ipython",
    "version": 3
   },
   "file_extension": ".py",
   "mimetype": "text/x-python",
   "name": "python",
   "nbconvert_exporter": "python",
   "pygments_lexer": "ipython3",
   "version": "3.11.4"
  }
 },
 "nbformat": 4,
 "nbformat_minor": 2
}
